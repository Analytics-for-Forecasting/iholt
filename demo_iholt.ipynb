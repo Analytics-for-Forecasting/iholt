{
 "cells": [
  {
   "cell_type": "code",
   "execution_count": 1,
   "metadata": {},
   "outputs": [
    {
     "name": "stdout",
     "output_type": "stream",
     "text": [
      "      fun: 0.2369864132974296\n",
      " hess_inv: <8x8 LbfgsInvHessProduct with dtype=float64>\n",
      "      jac: array([ 1.63757896e-06,  1.64590563e-06, -4.55191440e-07, -4.02455846e-07,\n",
      "        8.90953977e-07,  5.55111512e-07, -1.17683641e-06, -1.32671651e-06])\n",
      "  message: b'CONVERGENCE: NORM_OF_PROJECTED_GRADIENT_<=_PGTOL'\n",
      "     nfev: 90\n",
      "      nit: 8\n",
      "   status: 0\n",
      "  success: True\n",
      "        x: array([0.49241679, 0.35130391, 0.41490572, 0.36390064, 0.08578614,\n",
      "       0.1030902 , 0.15434859, 0.11216405])\n"
     ]
    }
   ],
   "source": [
    "import numpy as np\n",
    "from iholt import Holt_model\n",
    "from scipy.optimize import minimize\n",
    "\n",
    "# Construct the synthetic data\n",
    "s = np.sin(np.arange(0, 9, 0.01))\n",
    "s = np.vstack((s, s+0.5))\n",
    "\n",
    "# Build model\n",
    "holt_model = Holt_model(s)\n",
    "\n",
    "# Optimize\n",
    "bnds = [[0, 1]] * 8\n",
    "x0 = np.random.rand(8)   # Parameters [a11, a12, a21, a22, b11, b12, b21, b22]\n",
    "result = minimize(holt_model.fun, x0, method='L-BFGS-B', bounds=bnds)\n",
    "\n",
    "print(result)"
   ]
  },
  {
   "cell_type": "code",
   "execution_count": null,
   "metadata": {},
   "outputs": [],
   "source": []
  }
 ],
 "metadata": {
  "kernelspec": {
   "display_name": "Python 3",
   "language": "python",
   "name": "python3"
  },
  "language_info": {
   "codemirror_mode": {
    "name": "ipython",
    "version": 3
   },
   "file_extension": ".py",
   "mimetype": "text/x-python",
   "name": "python",
   "nbconvert_exporter": "python",
   "pygments_lexer": "ipython3",
   "version": "3.7.3"
  }
 },
 "nbformat": 4,
 "nbformat_minor": 2
}
